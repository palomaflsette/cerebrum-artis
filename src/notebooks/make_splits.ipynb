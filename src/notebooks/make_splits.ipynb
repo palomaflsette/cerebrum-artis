{
 "cells": [
  {
   "cell_type": "code",
   "execution_count": 4,
   "id": "b1e46453",
   "metadata": {},
   "outputs": [],
   "source": [
    "import os\n",
    "import sys\n",
    "sys.path.append(os.path.abspath(\"..\"))\n",
    "import math\n",
    "import random\n",
    "import pandas as pd\n",
    "import numpy as np\n",
    "from tqdm import tqdm\n",
    "from sklearn.model_selection import GroupShuffleSplit\n",
    "from collections import Counter\n",
    "\n",
    "from config import (\n",
    "    ARTEMIS_CSV_DIR, ARTEMIS_IMAGES_DIR,\n",
    "    PROJECT_CSV_DIR, PROJECT_SPLITS_DIR,\n",
    "    SEED, SUBSET_TARGET, SPLIT_TRAIN, SPLIT_VAL, SPLIT_TEST\n",
    ")"
   ]
  },
  {
   "cell_type": "code",
   "execution_count": 5,
   "id": "dd6e9df6",
   "metadata": {},
   "outputs": [],
   "source": [
    "random.seed(SEED)\n",
    "np.random.seed(SEED)\n",
    " \n",
    "CSV_PATH = os.path.join(ARTEMIS_CSV_DIR, \"artemis_dataset_release_v0.csv\")\n",
    "df = pd.read_csv(CSV_PATH, delimiter=\";\")\n"
   ]
  },
  {
   "cell_type": "markdown",
   "id": "9d36c177",
   "metadata": {},
   "source": [
    "### Esperados\n",
    "- 'emotion'  -> classe alvo\n",
    "- 'painting' -> nome do arquivo (ou caminho relativo)\n",
    "- 'art_style', 'artist', ... (opcionais)\n",
    "- 'painting_id' -> id único por obra (se inexistente, derivamos de 'painting' sem o sufixo)\n"
   ]
  },
  {
   "cell_type": "markdown",
   "id": "eab93e2c",
   "metadata": {},
   "source": [
    "### Verifica colunas essenciais:"
   ]
  },
  {
   "cell_type": "code",
   "execution_count": 6,
   "id": "a47f1667",
   "metadata": {},
   "outputs": [],
   "source": [
    "required_cols = [\"emotion\", \"painting\"]\n",
    "for c in required_cols:\n",
    "    if c not in df.columns:\n",
    "        raise KeyError(f\"Coluna ausente no CSV: {c}\")\n"
   ]
  },
  {
   "cell_type": "markdown",
   "id": "dd9bb0b5",
   "metadata": {},
   "source": [
    "### Cria 'painting_id' (grupo por obra) – remove extensão e possíveis variações pós-underscore"
   ]
  },
  {
   "cell_type": "code",
   "execution_count": 7,
   "id": "b883f682",
   "metadata": {},
   "outputs": [],
   "source": [
    "def derive_id(p):\n",
    "    base = os.path.splitext(os.path.basename(str(p)))[0]\n",
    "    # ex.: \"Monet_Impression_Sunrise_0001\" -> \"Monet_Impression_Sunrise\"\n",
    "    parts = base.split(\"_\")\n",
    "    if parts and parts[-1].isdigit():\n",
    "        parts = parts[:-1]\n",
    "    return \"_\".join(parts) if parts else base\n",
    "\n",
    "if \"painting_id\" not in df.columns:\n",
    "    df[\"painting_id\"] = df[\"painting\"].apply(derive_id)\n"
   ]
  },
  {
   "cell_type": "code",
   "execution_count": 10,
   "id": "f1b1292a",
   "metadata": {},
   "outputs": [],
   "source": [
    "# Caminho absoluto para checagem\n",
    "def abs_path(p):\n",
    "    return os.path.join(ARTEMIS_IMAGES_DIR, os.path.normpath(str(p)))\n",
    "\n",
    "df[\"abs_path\"] = df[\"painting\"].apply(abs_path)\n"
   ]
  },
  {
   "cell_type": "code",
   "execution_count": 11,
   "id": "b5eefefc",
   "metadata": {},
   "outputs": [
    {
     "name": "stdout",
     "output_type": "stream",
     "text": [
      "[info] Distribuição original:\n",
      "emotion\n",
      "contentment       126134\n",
      "awe                72927\n",
      "something else     52962\n",
      "sadness            49061\n",
      "amusement          45336\n",
      "fear               41577\n",
      "excitement         37636\n",
      "disgust            22411\n",
      "anger               6640\n",
      "Name: count, dtype: int64\n",
      "\n",
      "[info] Subset balanceado (1 por obra):\n",
      "emotion\n",
      "fear              2666\n",
      "awe               2666\n",
      "amusement         2666\n",
      "contentment       2666\n",
      "sadness           2666\n",
      "disgust           2666\n",
      "excitement        2666\n",
      "something else    2666\n",
      "anger             2666\n",
      "Name: count, dtype: int64\n"
     ]
    }
   ],
   "source": [
    "# ---------- 2) Limpar classes e contar ----------\n",
    "df[\"emotion\"] = df[\"emotion\"].astype(str).str.strip()\n",
    "\n",
    "# Remover classes raríssimas se necessário:\n",
    "# classes_interesse = ['awe','contentment','sadness','fear','anger','disgust','amusement','excitement']\n",
    "# df = df[df[\"emotion\"].isin(classes_interesse)]\n",
    "\n",
    "counts = df[\"emotion\"].value_counts()\n",
    "print(\"[info] Distribuição original:\")\n",
    "print(counts)\n",
    "\n",
    "# ---------- 3) Construir subset balanceado ----------\n",
    "n_classes = df[\"emotion\"].nunique()\n",
    "per_class = max(1, SUBSET_TARGET // n_classes)\n",
    "\n",
    "balanced_frames = []\n",
    "for emotion, grp in df.groupby(\"emotion\", sort=False):\n",
    "    # amostra por 'painting_id' primeiro (para evitar muitas legendas da mesma obra)\n",
    "    # pega 1 registro por obra, p/ diversidade\n",
    "    grp_sample = grp.drop_duplicates(subset=[\"painting_id\"])\n",
    "    take = min(len(grp_sample), per_class)\n",
    "    balanced = grp_sample.sample(n=take, random_state=SEED)\n",
    "    balanced_frames.append(balanced)\n",
    "\n",
    "df_bal = pd.concat(balanced_frames, ignore_index=True)\n",
    "\n",
    "print(\"\\n[info] Subset balanceado (1 por obra):\")\n",
    "print(df_bal[\"emotion\"].value_counts())\n"
   ]
  },
  {
   "cell_type": "code",
   "execution_count": 12,
   "id": "17795c3e",
   "metadata": {},
   "outputs": [],
   "source": [
    "# ---------- 4) Split por obra (train/val/test) ----------\n",
    "groups = df_bal[\"painting_id\"].values\n",
    "gss = GroupShuffleSplit(n_splits=1, train_size=SPLIT_TRAIN, random_state=SEED)\n",
    "train_idx, rest_idx = next(gss.split(df_bal, groups=groups))\n",
    "\n",
    "df_train = df_bal.iloc[train_idx]\n",
    "df_rest  = df_bal.iloc[rest_idx]\n"
   ]
  },
  {
   "cell_type": "markdown",
   "id": "679deae9",
   "metadata": {},
   "source": [
    "### Divide rest entre val e test mantendo proporção\n"
   ]
  },
  {
   "cell_type": "code",
   "execution_count": 13,
   "id": "2becb9db",
   "metadata": {},
   "outputs": [],
   "source": [
    "\n",
    "rest_groups = df_rest[\"painting_id\"].values\n",
    "val_size = SPLIT_VAL / (SPLIT_VAL + SPLIT_TEST)\n",
    "gss2 = GroupShuffleSplit(n_splits=1, train_size=val_size, random_state=SEED)\n",
    "val_idx, test_idx = next(gss2.split(df_rest, groups=rest_groups))\n",
    "\n",
    "df_val  = df_rest.iloc[val_idx]\n",
    "df_test = df_rest.iloc[test_idx]"
   ]
  },
  {
   "cell_type": "code",
   "execution_count": 14,
   "id": "eee40e29",
   "metadata": {},
   "outputs": [
    {
     "name": "stdout",
     "output_type": "stream",
     "text": [
      "\n",
      "[info] Tamanhos:\n",
      "train: 19168 val: 2398 test: 2428\n",
      "\n",
      "[info] Distribuição por split:\n",
      "\n",
      "train:\n",
      "emotion\n",
      "something else    2163\n",
      "disgust           2155\n",
      "amusement         2141\n",
      "excitement        2138\n",
      "fear              2119\n",
      "anger             2119\n",
      "sadness           2114\n",
      "awe               2113\n",
      "contentment       2106\n",
      "Name: count, dtype: int64\n",
      "\n",
      "val:\n",
      "emotion\n",
      "awe               287\n",
      "contentment       281\n",
      "fear              278\n",
      "amusement         273\n",
      "excitement        265\n",
      "anger             264\n",
      "something else    253\n",
      "sadness           250\n",
      "disgust           247\n",
      "Name: count, dtype: int64\n",
      "\n",
      "test:\n",
      "emotion\n",
      "sadness           302\n",
      "anger             283\n",
      "contentment       279\n",
      "fear              269\n",
      "awe               266\n",
      "disgust           264\n",
      "excitement        263\n",
      "amusement         252\n",
      "something else    250\n",
      "Name: count, dtype: int64\n"
     ]
    }
   ],
   "source": [
    "assert set(df_train[\"painting_id\"]).isdisjoint(df_val[\"painting_id\"])\n",
    "assert set(df_train[\"painting_id\"]).isdisjoint(df_test[\"painting_id\"])\n",
    "assert set(df_val[\"painting_id\"]).isdisjoint(df_test[\"painting_id\"])\n",
    "\n",
    "print(\"\\n[info] Tamanhos:\")\n",
    "print(\"train:\", len(df_train), \"val:\", len(df_val), \"test:\", len(df_test))\n",
    "\n",
    "print(\"\\n[info] Distribuição por split:\")\n",
    "for name, dfx in [(\"train\", df_train), (\"val\", df_val), (\"test\", df_test)]:\n",
    "    print(f\"\\n{name}:\")\n",
    "    print(dfx[\"emotion\"].value_counts())\n"
   ]
  },
  {
   "cell_type": "markdown",
   "id": "c4acf0f2",
   "metadata": {},
   "source": [
    "### salvando os CSVs e derivados:"
   ]
  },
  {
   "cell_type": "code",
   "execution_count": 15,
   "id": "b363e839",
   "metadata": {},
   "outputs": [
    {
     "name": "stdout",
     "output_type": "stream",
     "text": [
      "\n",
      "[ok] Salvo:\n",
      "- C:\\Users\\PSETTE\\OneDrive - azureford\\source\\repos\\cerebrum-artis\\data\\splits\\artemis_train.csv\n",
      "- C:\\Users\\PSETTE\\OneDrive - azureford\\source\\repos\\cerebrum-artis\\data\\splits\\artemis_val.csv\n",
      "- C:\\Users\\PSETTE\\OneDrive - azureford\\source\\repos\\cerebrum-artis\\data\\splits\\artemis_test.csv\n",
      "- C:\\Users\\PSETTE\\OneDrive - azureford\\source\\repos\\cerebrum-artis\\data\\csv\\artemis_subset_balanced.csv\n"
     ]
    }
   ],
   "source": [
    "train_csv = os.path.join(PROJECT_SPLITS_DIR, \"artemis_train.csv\")\n",
    "val_csv   = os.path.join(PROJECT_SPLITS_DIR, \"artemis_val.csv\")\n",
    "test_csv  = os.path.join(PROJECT_SPLITS_DIR, \"artemis_test.csv\")\n",
    "\n",
    "df_train.to_csv(train_csv, index=False)\n",
    "df_val.to_csv(val_csv, index=False)\n",
    "df_test.to_csv(test_csv, index=False)\n",
    "\n",
    "# Também salvar uma cópia “subset_total.csv”\n",
    "subset_csv = os.path.join(PROJECT_CSV_DIR, \"artemis_subset_balanced.csv\")\n",
    "df_bal.to_csv(subset_csv, index=False)\n",
    "\n",
    "print(f\"\\n[ok] Salvo:\\n- {train_csv}\\n- {val_csv}\\n- {test_csv}\\n- {subset_csv}\")\n"
   ]
  }
 ],
 "metadata": {
  "kernelspec": {
   "display_name": "cerebrumartis",
   "language": "python",
   "name": "python3"
  },
  "language_info": {
   "codemirror_mode": {
    "name": "ipython",
    "version": 3
   },
   "file_extension": ".py",
   "mimetype": "text/x-python",
   "name": "python",
   "nbconvert_exporter": "python",
   "pygments_lexer": "ipython3",
   "version": "3.10.10"
  }
 },
 "nbformat": 4,
 "nbformat_minor": 5
}
